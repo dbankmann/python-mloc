{
 "cells": [
  {
   "cell_type": "markdown",
   "metadata": {},
   "source": [
    "### Example 3"
   ]
  },
  {
   "cell_type": "raw",
   "metadata": {
    "raw_mimetype": "text/restructuredtext"
   },
   "source": [
    "Corresponds to Example 5.1 in :cite:`Ban2020_ParameterDependentMultilevel`."
   ]
  },
  {
   "cell_type": "code",
   "execution_count": 1,
   "metadata": {},
   "outputs": [],
   "source": [
    "import pymloc\n",
    "import numpy as np\n",
    "import jax.numpy as jnp\n",
    "import warnings\n",
    "warnings.filterwarnings('ignore')"
   ]
  },
  {
   "cell_type": "markdown",
   "metadata": {},
   "source": [
    "#### Creating the variables object\n",
    "The variables for the different levels are defined as follows."
   ]
  },
  {
   "cell_type": "code",
   "execution_count": 2,
   "metadata": {},
   "outputs": [],
   "source": [
    "from pymloc.model.variables import InputStateVariables\n",
    "from pymloc.model.variables import NullVariables\n",
    "from pymloc.model.variables import ParameterContainer\n",
    "from pymloc.model.variables.time_function import Time\n",
    "from pymloc.model.domains import RNDomain\n",
    "\n",
    "\n",
    "loc_vars = InputStateVariables(1, 1, time=Time(0., 2.))\n",
    "hl_vars = ParameterContainer(1, domain=RNDomain(1))\n",
    "variables2 = (hl_vars, loc_vars)\n",
    "\n",
    "ll_vars = NullVariables()"
   ]
  },
  {
   "cell_type": "markdown",
   "metadata": {},
   "source": [
    "#### Creating the parameter optimal control object\n",
    "\n",
    "First, we need to create a parameter dependent optimal control problem.\n",
    "\n",
    "We need  `objective` and `constraint`.\n"
   ]
  },
  {
   "cell_type": "markdown",
   "metadata": {},
   "source": [
    "##### Creating the control system\n",
    "The parameter dependent control system is defined by"
   ]
  },
  {
   "cell_type": "code",
   "execution_count": 3,
   "metadata": {},
   "outputs": [],
   "source": [
    "from pymloc.model.control_system.parameter_dae import LinearParameterControlSystem\n",
    "\n",
    "def e(p, t):\n",
    "    return jnp.array([[1.]])\n",
    "\n",
    "\n",
    "def a(p, t):\n",
    "    return jnp.array([[-1.]])\n",
    "\n",
    "\n",
    "def b(p, t):\n",
    "    return jnp.array([[1.]])\n",
    "\n",
    "\n",
    "def c(p, t):\n",
    "    return jnp.array([[1.]])\n",
    "\n",
    "\n",
    "def d(p, t):\n",
    "    return jnp.array([[0.]])\n",
    "\n",
    "\n",
    "def f(p, t):\n",
    "    return jnp.array([0.])\n",
    "\n",
    "\n",
    "param_control = LinearParameterControlSystem(ll_vars, *variables2, e, a, b, c,\n",
    "                                             d, f)"
   ]
  },
  {
   "cell_type": "markdown",
   "metadata": {},
   "source": [
    "##### Creating the constraint object"
   ]
  },
  {
   "cell_type": "code",
   "execution_count": 4,
   "metadata": {},
   "outputs": [],
   "source": [
    "from pymloc.model.optimization.parameter_optimal_control import ParameterLQRConstraint\n",
    "\n",
    "\n",
    "def initial_value(p):\n",
    "    return jnp.array([2.])\n",
    "\n",
    "\n",
    "\n",
    "time = Time(0., 2.)\n",
    "\n",
    "pdoc_constraint = ParameterLQRConstraint(*variables2, param_control,\n",
    "                                         initial_value)\n"
   ]
  },
  {
   "cell_type": "markdown",
   "metadata": {},
   "source": [
    "##### Creating the objective function\n",
    "\n",
    "The objective function is defined by"
   ]
  },
  {
   "cell_type": "code",
   "execution_count": 5,
   "metadata": {},
   "outputs": [],
   "source": [
    "from pymloc.model.optimization.parameter_optimal_control import ParameterLQRObjective\n",
    "\n",
    "def q(p, t):\n",
    "    return jnp.array([[p**2. - 1.]])\n",
    "\n",
    "\n",
    "def s(p, t):\n",
    "    return jnp.zeros((1, 1))\n",
    "\n",
    "\n",
    "def r(p, t):\n",
    "    return jnp.array([[1.]])\n",
    "\n",
    "\n",
    "def m(p):\n",
    "    return jnp.array([[0.]])\n",
    "\n",
    "\n",
    "time = Time(0., 2.)\n",
    "pdoc_objective = ParameterLQRObjective(*variables2, time, q, s, r, m)\n"
   ]
  },
  {
   "cell_type": "markdown",
   "metadata": {},
   "source": [
    "##### Create the parameter dependent optimal control object"
   ]
  },
  {
   "cell_type": "code",
   "execution_count": 6,
   "metadata": {},
   "outputs": [],
   "source": [
    "from pymloc.model.optimization.parameter_optimal_control import ParameterDependentOptimalControl\n",
    "\n",
    "pdoc_object = ParameterDependentOptimalControl(*variables2, pdoc_objective,\n",
    "                                               pdoc_constraint)\n"
   ]
  },
  {
   "cell_type": "markdown",
   "metadata": {},
   "source": [
    "The neccessary conditions can be obtained as follows"
   ]
  },
  {
   "cell_type": "code",
   "execution_count": 7,
   "metadata": {
    "scrolled": true
   },
   "outputs": [
    {
     "name": "stdout",
     "output_type": "stream",
     "text": [
      "E =\n",
      " [[ 0.  1.  0.]\n",
      " [-1.  0.  0.]\n",
      " [-0.  0.  0.]],\n",
      "A =\n",
      " [[ 0. -1.  1.]\n",
      " [-1.  3.  0.]\n",
      " [ 1.  0.  1.]]\n"
     ]
    }
   ],
   "source": [
    "neccessary_conditions = pdoc_object.get_bvp()\n",
    "e = neccessary_conditions.dynamical_system.e(2., 3.)\n",
    "a = neccessary_conditions.dynamical_system.a(2., 3.)\n",
    "print(\"E =\\n {},\\nA =\\n {}\".format(e, a))"
   ]
  },
  {
   "cell_type": "markdown",
   "metadata": {},
   "source": [
    "#### Setting up the nonlinear least squares problem\n",
    "\n",
    "\n",
    "\n",
    "##### Define the residual function\n",
    "We define the residual function by using the true solution for the parameter value at 2 and comparing it with the current solution for the current parameter value."
   ]
  },
  {
   "cell_type": "code",
   "execution_count": 8,
   "metadata": {},
   "outputs": [],
   "source": [
    "def compute_ref_sol(theta, time, x0, t):\n",
    "    tf = time.t_f\n",
    "    t0 = time.t_0\n",
    "    exp0 = np.exp(2 * theta * (tf - t0))\n",
    "    exp1 = np.exp(-(t + t0) * theta)\n",
    "    exp2 = np.exp(2 * t * theta)\n",
    "    exp3 = np.exp(2 * tf * theta)\n",
    "    tmp1 = theta + exp0 * (theta + 1) - 1\n",
    "    tmp2 = np.array([\n",
    "        -(exp2 - exp3) * (theta**2 - 1),\n",
    "        (exp2 * (theta - 1) + exp3 * (theta + 1)),\n",
    "        (exp2 - exp3) * (theta**2 - 1)\n",
    "    ])\n",
    "\n",
    "    refsol = tmp1**-1 * tmp2 * exp1 * x0\n",
    "    return refsol"
   ]
  },
  {
   "cell_type": "code",
   "execution_count": 9,
   "metadata": {},
   "outputs": [],
   "source": [
    "theta = 2.\n",
    "t0 = 0.\n",
    "tf = 2.\n",
    "x01 = 2.\n",
    "time = Time(t0, tf)\n",
    "t2 = 1.3\n",
    "t1 = 1.\n",
    "\n",
    "\n",
    "def f_nlsq(ll_vars, hl_vars, loc_vars):\n",
    "    sol1 = compute_ref_sol(theta, time, x01, t1)\n",
    "    sol2 = compute_ref_sol(theta, time, x01, t2)\n",
    "    sol0 = compute_ref_sol(theta, time, x01, t0)\n",
    "    solf = compute_ref_sol(theta, time, x01, tf)\n",
    "    f1 = ll_vars(t1)[1] - sol1[1]\n",
    "    f2 = ll_vars(t2)[1] - sol2[1]\n",
    "    f0 = ll_vars(t0)[1] - sol0[1]\n",
    "    ff = ll_vars(tf)[1] - solf[1]\n",
    "    return np.hstack((f0, f1, f2, ff))"
   ]
  },
  {
   "cell_type": "markdown",
   "metadata": {},
   "source": [
    "##### Define the NonlinearLeastSquares optimization object"
   ]
  },
  {
   "cell_type": "code",
   "execution_count": 10,
   "metadata": {},
   "outputs": [],
   "source": [
    "import pymloc.model.optimization as optimization\n",
    "variables = (variables2[1], NullVariables(), variables2[0])\n",
    "nlsq_obj =  optimization.objectives.NonLinearLeastSquares(*variables, f_nlsq)\n",
    "\n",
    "nlsq =  optimization.NonLinearLeastSquares(nlsq_obj, *variables)"
   ]
  },
  {
   "cell_type": "markdown",
   "metadata": {},
   "source": [
    "#### Setting up the bilevel optimal control problem\n"
   ]
  },
  {
   "cell_type": "markdown",
   "metadata": {},
   "source": [
    "##### Compute solution\n",
    "We are now able to set up the multilevel optimal control problem by setting the optimizations and variables in the corresponding order"
   ]
  },
  {
   "cell_type": "code",
   "execution_count": 11,
   "metadata": {},
   "outputs": [],
   "source": [
    "import logging\n",
    "logger = logging.getLogger(__name__)\n",
    "logging.getLogger().setLevel(logging.INFO)\n",
    "\n",
    "optimizations = [nlsq, pdoc_object]\n",
    "variables = (variables2[0], variables2[1])\n",
    "variables[0].current_values = np.array([1.])\n",
    "variables[1].current_values = np.array([])\n",
    "variables[1].time.grid = np.array([1., 1.3])\n"
   ]
  },
  {
   "cell_type": "markdown",
   "metadata": {},
   "source": [
    "We also only want sensitivities of the x component and thus, set the selector accordingly."
   ]
  },
  {
   "cell_type": "code",
   "execution_count": 12,
   "metadata": {},
   "outputs": [],
   "source": [
    "pdoc_object.ll_sens_selector_shape = (1, 3)\n",
    "pdoc_object.ll_sens_selector = lambda p: np.array([[0., 1., 0.]])\n"
   ]
  },
  {
   "cell_type": "markdown",
   "metadata": {},
   "source": [
    "Then, wen can initialize and run the multilevel optimal control problem"
   ]
  },
  {
   "cell_type": "code",
   "execution_count": 13,
   "metadata": {},
   "outputs": [
    {
     "name": "stdout",
     "output_type": "stream",
     "text": [
      "\u001b[32m\tStarting solver MultiLevelIterativeSolver (base_solver.py:59)\u001b[0m\n",
      "\u001b[32m\tCurrent option values:\n",
      "\tabs_tol: 1e-06\n",
      "\trel_tol: 1e-06\n",
      "\tmax_iter: 10 (base_solver.py:62)\u001b[0m\n",
      "\u001b[32m\t\tStarting solver GaussNewton (base_solver.py:59)\u001b[0m\n",
      "\u001b[32m\t\tCurrent option values:\n",
      "\t\tabs_tol: 1e-06\n",
      "\t\trel_tol: 1e-06\n",
      "\t\tmax_iter: 20 (base_solver.py:62)\u001b[0m\n",
      "\u001b[32m\t\tStarting iteration: 0 (gauss_newton.py:96)\u001b[0m\n",
      "\u001b[32m\t\tUpdating lower level variables... (multilevel_object.py:105)\u001b[0m\n",
      "\u001b[32m\t\tUpdating lower level variables... (multilevel_object.py:105)\u001b[0m\n",
      "\u001b[32m\t\tCurrent residual: [-0.66603219] (gauss_newton.py:70)\u001b[0m\n",
      "\u001b[32m\t\tCurrent allowed lower level tolerance: 0.023322921822300516 (gauss_newton.py:72)\u001b[0m\n",
      "\u001b[32m\t\tNew x value:\n",
      "\t\t[1.62565779]\n",
      "\t\tNew jac value:\n",
      "\t\t[[ 0.        ]\n",
      "\t\t [-0.69271902]\n",
      "\t\t [-0.64637977]\n",
      "\t\t [-0.40849072]] (gauss_newton.py:77)\u001b[0m\n",
      "\u001b[32m\t\tStarting iteration: 1 (gauss_newton.py:96)\u001b[0m\n",
      "\u001b[32m\t\tUpdating lower level variables... (multilevel_object.py:105)\u001b[0m\n",
      "\u001b[32m\t\tUpdating lower level variables... (multilevel_object.py:105)\u001b[0m\n",
      "\u001b[32m\t\tCurrent residual: [-0.09531969] (gauss_newton.py:70)\u001b[0m\n",
      "\u001b[32m\t\tCurrent allowed lower level tolerance: 0.008435398848567852 (gauss_newton.py:72)\u001b[0m\n",
      "\u001b[32m\t\tNew x value:\n",
      "\t\t[1.92942009]\n",
      "\t\tNew jac value:\n",
      "\t\t[[ 0.        ]\n",
      "\t\t [-0.4116986 ]\n",
      "\t\t [-0.33576026]\n",
      "\t\t [-0.17766904]] (gauss_newton.py:77)\u001b[0m\n",
      "\u001b[32m\t\tStarting iteration: 2 (gauss_newton.py:96)\u001b[0m\n",
      "\u001b[32m\t\tUpdating lower level variables... (multilevel_object.py:105)\u001b[0m\n",
      "\u001b[32m\t\tUpdating lower level variables... (multilevel_object.py:105)\u001b[0m\n",
      "\u001b[32m\t\tCurrent residual: [-0.01137531] (gauss_newton.py:70)\u001b[0m\n",
      "\u001b[32m\t\tCurrent allowed lower level tolerance: 0.0019700405466293908 (gauss_newton.py:72)\u001b[0m\n",
      "\u001b[32m\t\tNew x value:\n",
      "\t\t[2.00504389]\n",
      "\t\tNew jac value:\n",
      "\t\t[[ 0.        ]\n",
      "\t\t [-0.29951971]\n",
      "\t\t [-0.22281496]\n",
      "\t\t [-0.10517187]] (gauss_newton.py:77)\u001b[0m\n",
      "\u001b[32m\t\tStarting iteration: 3 (gauss_newton.py:96)\u001b[0m\n",
      "\u001b[32m\t\tUpdating lower level variables... (multilevel_object.py:105)\u001b[0m\n",
      "\u001b[32m\t\tUpdating lower level variables... (multilevel_object.py:105)\u001b[0m\n",
      "\u001b[32m\t\tCurrent residual: [0.00027421] (gauss_newton.py:70)\u001b[0m\n",
      "\u001b[32m\t\tCurrent allowed lower level tolerance: 5.913012890989498e-05 (gauss_newton.py:72)\u001b[0m\n",
      "\u001b[32m\t\tNew x value:\n",
      "\t\t[2.00281763]\n",
      "\t\tNew jac value:\n",
      "\t\t[[ 0.        ]\n",
      "\t\t [-0.27465787]\n",
      "\t\t [-0.19906282]\n",
      "\t\t [-0.09003094]] (gauss_newton.py:77)\u001b[0m\n",
      "\u001b[32m\t\tStarting iteration: 4 (gauss_newton.py:96)\u001b[0m\n",
      "\u001b[32m\t\tUpdating lower level variables... (multilevel_object.py:105)\u001b[0m\n",
      "\u001b[32m\t\tUpdating lower level variables... (multilevel_object.py:105)\u001b[0m\n",
      "\u001b[32m\t\tCurrent residual: [0.00033822] (gauss_newton.py:70)\u001b[0m\n",
      "\u001b[32m\t\tCurrent allowed lower level tolerance: 7.339535863148346e-05 (gauss_newton.py:72)\u001b[0m\n",
      "\u001b[32m\t\tNew x value:\n",
      "\t\t[2.00005288]\n",
      "\t\tNew jac value:\n",
      "\t\t[[ 0.        ]\n",
      "\t\t [-0.27377794]\n",
      "\t\t [-0.19853268]\n",
      "\t\t [-0.08924611]] (gauss_newton.py:77)\u001b[0m\n",
      "\u001b[32m\t\tStarting iteration: 5 (gauss_newton.py:96)\u001b[0m\n",
      "\u001b[32m\t\tUpdating lower level variables... (multilevel_object.py:105)\u001b[0m\n",
      "\u001b[32m\t\tUpdating lower level variables... (multilevel_object.py:105)\u001b[0m\n",
      "\u001b[32m\t\tCurrent residual: [-1.39727571e-06] (gauss_newton.py:70)\u001b[0m\n",
      "\u001b[32m\t\tCurrent allowed lower level tolerance: 3.036733193512886e-07 (gauss_newton.py:72)\u001b[0m\n",
      "\u001b[32m\t\tNew x value:\n",
      "\t\t[2.00006423]\n",
      "\t\tNew jac value:\n",
      "\t\t[[ 0.        ]\n",
      "\t\t [-0.27453965]\n",
      "\t\t [-0.19927597]\n",
      "\t\t [-0.08970326]] (gauss_newton.py:77)\u001b[0m\n",
      "\u001b[32m\t\tStarting iteration: 6 (gauss_newton.py:96)\u001b[0m\n",
      "\u001b[32m\t\tUpdating lower level variables... (multilevel_object.py:105)\u001b[0m\n",
      "\u001b[32m\t\tUpdating lower level variables... (multilevel_object.py:105)\u001b[0m\n",
      "\u001b[32m\t\tCurrent residual: [7.91042637e-06] (gauss_newton.py:70)\u001b[0m\n",
      "\u001b[32m\t\tCurrent allowed lower level tolerance: 1.7204548910448125e-06 (gauss_newton.py:72)\u001b[0m\n",
      "\u001b[32m\t\tNew x value:\n",
      "\t\t[1.99999989]\n",
      "\t\tNew jac value:\n",
      "\t\t[[ 0.        ]\n",
      "\t\t [-0.27437847]\n",
      "\t\t [-0.19913989]\n",
      "\t\t [-0.08950784]] (gauss_newton.py:77)\u001b[0m\n",
      "\u001b[32m\t\tStarting iteration: 7 (gauss_newton.py:96)\u001b[0m\n",
      "\u001b[32m\t\tUpdating lower level variables... (multilevel_object.py:105)\u001b[0m\n",
      "\u001b[32m\t\tUpdating lower level variables... (multilevel_object.py:105)\u001b[0m\n",
      "\u001b[32m\t\tCurrent residual: [-3.03250968e-07] (gauss_newton.py:70)\u001b[0m\n",
      "\u001b[32m\t\tCurrent allowed lower level tolerance: 6.595525325505868e-08 (gauss_newton.py:72)\u001b[0m\n",
      "\u001b[32mSolution: [2.00000235] (<ipython-input-13-7ad04a428ec6>:12)\u001b[0m\n"
     ]
    }
   ],
   "source": [
    "from pymloc import MultiLevelOptimalControl\n",
    "\n",
    "logger = logging.getLogger(\"pymloc.solvers.nonlinear.gauss_newton\")\n",
    "logger.setLevel(logging.DEBUG)\n",
    "logging.getLogger().handlers[0].filters[0].__class__.max_level = 3\n",
    "mloc = MultiLevelOptimalControl(optimizations, variables)\n",
    "\n",
    "np.set_printoptions(precision=8)\n",
    "mloc.init_solver(abs_tol=1e-6, rel_tol=1e-6)\n",
    "mloc.highest_opt.local_level_variables.associated_problem.solver_instance.upper_eta = 0.1\n",
    "solution = mloc.solve()\n",
    "logger.info(\"Solution: {}\".format(solution.solution))\n"
   ]
  }
 ],
 "metadata": {
  "celltoolbar": "Raw Cell Format",
  "kernelspec": {
   "display_name": "Python [conda env:.conda-multilevel] *",
   "language": "python",
   "name": "conda-env-.conda-multilevel-py"
  },
  "language_info": {
   "codemirror_mode": {
    "name": "ipython",
    "version": 3
   },
   "file_extension": ".py",
   "mimetype": "text/x-python",
   "name": "python",
   "nbconvert_exporter": "python",
   "pygments_lexer": "ipython3",
   "version": "3.7.6"
  }
 },
 "nbformat": 4,
 "nbformat_minor": 4
}
