{
 "cells": [
  {
   "cell_type": "markdown",
   "metadata": {},
   "source": [
    "### Example 3"
   ]
  },
  {
   "cell_type": "raw",
   "metadata": {
    "raw_mimetype": "text/restructuredtext"
   },
   "source": [
    "Corresponds to Example 5.1 in :cite:`Ban2020_ParameterDependentMultilevel`."
   ]
  },
  {
   "cell_type": "code",
   "execution_count": 1,
   "metadata": {},
   "outputs": [],
   "source": [
    "import pymloc\n",
    "import numpy as np\n",
    "import jax.numpy as jnp\n",
    "import warnings\n",
    "warnings.filterwarnings('ignore')"
   ]
  },
  {
   "cell_type": "markdown",
   "metadata": {},
   "source": [
    "#### Creating the variables object\n",
    "The variables for the different levels are defined as follows."
   ]
  },
  {
   "cell_type": "code",
   "execution_count": 2,
   "metadata": {},
   "outputs": [],
   "source": [
    "from pymloc.model.variables import InputStateVariables\n",
    "from pymloc.model.variables import NullVariables\n",
    "from pymloc.model.variables import ParameterContainer\n",
    "from pymloc.model.variables.time_function import Time\n",
    "from pymloc.model.domains import RNDomain\n",
    "\n",
    "\n",
    "loc_vars = InputStateVariables(1, 1, time=Time(0., 2.))\n",
    "hl_vars = ParameterContainer(1, domain=RNDomain(1))\n",
    "variables2 = (hl_vars, loc_vars)\n",
    "\n",
    "ll_vars = NullVariables()"
   ]
  },
  {
   "cell_type": "markdown",
   "metadata": {},
   "source": [
    "#### Creating the parameter optimal control object\n",
    "\n",
    "First, we need to create a parameter dependent optimal control problem.\n",
    "\n",
    "We need  `objective` and `constraint`.\n"
   ]
  },
  {
   "cell_type": "markdown",
   "metadata": {},
   "source": [
    "##### Creating the control system\n",
    "The parameter dependent control system is defined by"
   ]
  },
  {
   "cell_type": "code",
   "execution_count": 3,
   "metadata": {},
   "outputs": [],
   "source": [
    "from pymloc.model.control_system.parameter_dae import LinearParameterControlSystem\n",
    "\n",
    "def e(p, t):\n",
    "    return jnp.array([[1.]])\n",
    "\n",
    "\n",
    "def a(p, t):\n",
    "    return jnp.array([[-1.]])\n",
    "\n",
    "\n",
    "def b(p, t):\n",
    "    return jnp.array([[1.]])\n",
    "\n",
    "\n",
    "def c(p, t):\n",
    "    return jnp.array([[1.]])\n",
    "\n",
    "\n",
    "def d(p, t):\n",
    "    return jnp.array([[0.]])\n",
    "\n",
    "\n",
    "def f(p, t):\n",
    "    return jnp.array([0.])\n",
    "\n",
    "\n",
    "param_control = LinearParameterControlSystem(ll_vars, *variables2, e, a, b, c,\n",
    "                                             d, f)"
   ]
  },
  {
   "cell_type": "markdown",
   "metadata": {},
   "source": [
    "##### Creating the constraint object"
   ]
  },
  {
   "cell_type": "code",
   "execution_count": 4,
   "metadata": {},
   "outputs": [],
   "source": [
    "from pymloc.model.optimization.parameter_optimal_control import ParameterLQRConstraint\n",
    "\n",
    "\n",
    "def initial_value(p):\n",
    "    return jnp.array([2.])\n",
    "\n",
    "\n",
    "\n",
    "time = Time(0., 2.)\n",
    "\n",
    "pdoc_constraint = ParameterLQRConstraint(*variables2, param_control,\n",
    "                                         initial_value)\n"
   ]
  },
  {
   "cell_type": "markdown",
   "metadata": {},
   "source": [
    "##### Creating the objective function\n",
    "\n",
    "The objective function is defined by"
   ]
  },
  {
   "cell_type": "code",
   "execution_count": 5,
   "metadata": {},
   "outputs": [],
   "source": [
    "from pymloc.model.optimization.parameter_optimal_control import ParameterLQRObjective\n",
    "\n",
    "def q(p, t):\n",
    "    return jnp.array([[p**2. - 1.]])\n",
    "\n",
    "\n",
    "def s(p, t):\n",
    "    return jnp.zeros((1, 1))\n",
    "\n",
    "\n",
    "def r(p, t):\n",
    "    return jnp.array([[1.]])\n",
    "\n",
    "\n",
    "def m(p):\n",
    "    return jnp.array([[0.]])\n",
    "\n",
    "\n",
    "time = Time(0., 2.)\n",
    "pdoc_objective = ParameterLQRObjective(*variables2, time, q, s, r, m)\n"
   ]
  },
  {
   "cell_type": "markdown",
   "metadata": {},
   "source": [
    "##### Create the parameter dependent optimal control object"
   ]
  },
  {
   "cell_type": "code",
   "execution_count": 6,
   "metadata": {},
   "outputs": [],
   "source": [
    "from pymloc.model.optimization.parameter_optimal_control import ParameterDependentOptimalControl\n",
    "\n",
    "pdoc_object = ParameterDependentOptimalControl(*variables2, pdoc_objective,\n",
    "                                               pdoc_constraint)\n"
   ]
  },
  {
   "cell_type": "markdown",
   "metadata": {},
   "source": [
    "The neccessary conditions can be obtained as follows"
   ]
  },
  {
   "cell_type": "code",
   "execution_count": 7,
   "metadata": {
    "scrolled": true
   },
   "outputs": [
    {
     "name": "stdout",
     "output_type": "stream",
     "text": [
      "E =\n",
      " [[ 0.  1.  0.]\n",
      " [-1.  0.  0.]\n",
      " [-0.  0.  0.]],\n",
      "A =\n",
      " [[ 0. -1.  1.]\n",
      " [-1.  3.  0.]\n",
      " [ 1.  0.  1.]]\n"
     ]
    }
   ],
   "source": [
    "neccessary_conditions = pdoc_object.get_bvp()\n",
    "e = neccessary_conditions.dynamical_system.e(2., 3.)\n",
    "a = neccessary_conditions.dynamical_system.a(2., 3.)\n",
    "print(\"E =\\n {},\\nA =\\n {}\".format(e, a))"
   ]
  },
  {
   "cell_type": "markdown",
   "metadata": {},
   "source": [
    "#### Setting up the nonlinear least squares problem\n",
    "\n",
    "\n",
    "\n",
    "##### Define the residual function\n",
    "We define the residual function by using the true solution for the parameter value at 2 and comparing it with the current solution for the current parameter value."
   ]
  },
  {
   "cell_type": "code",
   "execution_count": 8,
   "metadata": {},
   "outputs": [],
   "source": [
    "def compute_ref_sol(theta, time, x0, t):\n",
    "    tf = time.t_f\n",
    "    t0 = time.t_0\n",
    "    exp0 = np.exp(2 * theta * (tf - t0))\n",
    "    exp1 = np.exp(-(t + t0) * theta)\n",
    "    exp2 = np.exp(2 * t * theta)\n",
    "    exp3 = np.exp(2 * tf * theta)\n",
    "    tmp1 = theta + exp0 * (theta + 1) - 1\n",
    "    tmp2 = np.array([\n",
    "        -(exp2 - exp3) * (theta**2 - 1),\n",
    "        (exp2 * (theta - 1) + exp3 * (theta + 1)),\n",
    "        (exp2 - exp3) * (theta**2 - 1)\n",
    "    ])\n",
    "\n",
    "    refsol = tmp1**-1 * tmp2 * exp1 * x0\n",
    "    return refsol"
   ]
  },
  {
   "cell_type": "code",
   "execution_count": 9,
   "metadata": {},
   "outputs": [],
   "source": [
    "theta = 2.\n",
    "t0 = 0.\n",
    "tf = 2.\n",
    "x01 = 2.\n",
    "time = Time(t0, tf)\n",
    "t2 = 1.3\n",
    "t1 = 1.\n",
    "\n",
    "\n",
    "def f_nlsq(ll_vars, hl_vars, loc_vars):\n",
    "    sol1 = compute_ref_sol(theta, time, x01, t1)\n",
    "    sol2 = compute_ref_sol(theta, time, x01, t2)\n",
    "    sol0 = compute_ref_sol(theta, time, x01, t0)\n",
    "    solf = compute_ref_sol(theta, time, x01, tf)\n",
    "    f1 = ll_vars(t1)[1] - sol1[1]\n",
    "    f2 = ll_vars(t2)[1] - sol2[1]\n",
    "    f0 = ll_vars(t0)[1] - sol0[1]\n",
    "    ff = ll_vars(tf)[1] - solf[1]\n",
    "    return np.hstack((f0, f1, f2, ff))"
   ]
  },
  {
   "cell_type": "markdown",
   "metadata": {},
   "source": [
    "##### Define the NonlinearLeastSquares optimization object"
   ]
  },
  {
   "cell_type": "code",
   "execution_count": 10,
   "metadata": {},
   "outputs": [],
   "source": [
    "import pymloc.model.optimization as optimization\n",
    "variables = (variables2[1], NullVariables(), variables2[0])\n",
    "nlsq_obj =  optimization.objectives.NonLinearLeastSquares(*variables, f_nlsq)\n",
    "\n",
    "nlsq =  optimization.NonLinearLeastSquares(nlsq_obj, *variables)"
   ]
  },
  {
   "cell_type": "markdown",
   "metadata": {},
   "source": [
    "#### Setting up the bilevel optimal control problem\n"
   ]
  },
  {
   "cell_type": "markdown",
   "metadata": {},
   "source": [
    "##### Compute solution\n",
    "We are now able to set up the multilevel optimal control problem by setting the optimizations and variables in the corresponding order"
   ]
  },
  {
   "cell_type": "code",
   "execution_count": 11,
   "metadata": {},
   "outputs": [],
   "source": [
    "import logging\n",
    "logger = logging.getLogger(__name__)\n",
    "logging.getLogger().setLevel(logging.INFO)\n",
    "\n",
    "optimizations = [nlsq, pdoc_object]\n",
    "variables = (variables2[0], variables2[1])\n",
    "variables[0].current_values = np.array([1.])\n",
    "variables[1].current_values = np.array([])\n",
    "variables[1].time.grid = np.array([1., 1.3])\n"
   ]
  },
  {
   "cell_type": "markdown",
   "metadata": {},
   "source": [
    "We also only want sensitivities of the x component and thus, set the selector accordingly."
   ]
  },
  {
   "cell_type": "code",
   "execution_count": 12,
   "metadata": {},
   "outputs": [],
   "source": [
    "pdoc_object.ll_sens_selector_shape = (1, 3)\n",
    "pdoc_object.ll_sens_selector = lambda p: np.array([[0., 1., 0.]])\n"
   ]
  },
  {
   "cell_type": "markdown",
   "metadata": {},
   "source": [
    "Then, wen can initialize and run the multilevel optimal control problem"
   ]
  },
  {
   "cell_type": "code",
   "execution_count": 13,
   "metadata": {},
   "outputs": [
    {
     "name": "stdout",
     "output_type": "stream",
     "text": [
      "\u001b[32m\tStarting solver MultiLevelIterativeSolver\u001b[0m\n",
      "\u001b[32m\tCurrent option values:\n",
      "\tabs_tol: 1e-06\n",
      "\trel_tol: 1e-06\n",
      "\tmax_iter: 10\u001b[0m\n",
      "\u001b[32m\t\tStarting solver GaussNewton\u001b[0m\n",
      "\u001b[32m\t\tCurrent option values:\n",
      "\t\tabs_tol: 1e-06\n",
      "\t\trel_tol: 1e-06\n",
      "\t\tmax_iter: 20\u001b[0m\n",
      "\u001b[32m\t\tStarting iteration: 0\u001b[0m\n",
      "\u001b[32m\t\tUpdating lower level variables...\u001b[0m\n",
      "\u001b[32m\t\tCurrent residual ||J^T r||_2: 0.6660321871331705\u001b[0m\n",
      "\u001b[32m\t\tCurrent ||r||_2: 0.6472009202931233\u001b[0m\n",
      "\u001b[32m\t\tCurrent ||J||_2: 1.0317611699564475\u001b[0m\n",
      "\u001b[32m\t\tCurrent cond(J): 1.0\u001b[0m\n",
      "\u001b[32m\t\tCurrent allowed lower level tolerance: 0.0025501543923860965\u001b[0m\n",
      "\u001b[32m\t\tNew x value:\n",
      "\t\t[1.62565779]\n",
      "\t\tNew jac value:\n",
      "\t\t[[ 0.        ]\n",
      "\t\t [-0.69271902]\n",
      "\t\t [-0.64637977]\n",
      "\t\t [-0.40849072]]\u001b[0m\n",
      "\u001b[32m\t\tStarting iteration: 1\u001b[0m\n",
      "\u001b[32m\t\tUpdating lower level variables...\u001b[0m\n",
      "\u001b[32m\t\tCurrent residual ||J^T r||_2: 0.09021829248969856\u001b[0m\n",
      "\u001b[32m\t\tCurrent ||r||_2: 0.16544194785738267\u001b[0m\n",
      "\u001b[32m\t\tCurrent ||J||_2: 0.5456313369531584\u001b[0m\n",
      "\u001b[32m\t\tCurrent cond(J): 1.0\u001b[0m\n",
      "\u001b[32m\t\tCurrent allowed lower level tolerance: 0.0009145542277046758\u001b[0m\n",
      "\u001b[32m\t\tNew x value:\n",
      "\t\t[1.92869503]\n",
      "\t\tNew jac value:\n",
      "\t\t[[ 0.        ]\n",
      "\t\t [-0.40312896]\n",
      "\t\t [-0.32529563]\n",
      "\t\t [-0.17141571]]\u001b[0m\n",
      "\u001b[32m\t\tStarting iteration: 2\u001b[0m\n",
      "\u001b[32m\t\tUpdating lower level variables...\u001b[0m\n",
      "\u001b[32m\t\tCurrent residual ||J^T r||_2: 0.010023113613176841\u001b[0m\n",
      "\u001b[32m\t\tCurrent ||r||_2: 0.026234802667399967\u001b[0m\n",
      "\u001b[32m\t\tCurrent ||J||_2: 0.38206638166805335\u001b[0m\n",
      "\u001b[32m\t\tCurrent cond(J): 1.0\u001b[0m\n",
      "\u001b[32m\t\tCurrent allowed lower level tolerance: 0.00020425261292175866\u001b[0m\n",
      "\u001b[32m\t\tNew x value:\n",
      "\t\t[1.99735838]\n",
      "\t\tNew jac value:\n",
      "\t\t[[ 0.        ]\n",
      "\t\t [-0.29575558]\n",
      "\t\t [-0.21925259]\n",
      "\t\t [-0.10213549]]\u001b[0m\n",
      "\u001b[32m\t\tStarting iteration: 3\u001b[0m\n",
      "\u001b[32m\t\tUpdating lower level variables...\u001b[0m\n",
      "\u001b[32m\t\tCurrent residual ||J^T r||_2: 0.00033601046465835875\u001b[0m\n",
      "\u001b[32m\t\tCurrent ||r||_2: 0.000953972969659078\u001b[0m\n",
      "\u001b[32m\t\tCurrent ||J||_2: 0.35227148193310337\u001b[0m\n",
      "\u001b[32m\t\tCurrent cond(J): 1.0\u001b[0m\n",
      "\u001b[32m\t\tCurrent allowed lower level tolerance: 8.387938329980655e-06\u001b[0m\n",
      "\u001b[32m\t\tNew x value:\n",
      "\t\t[2.00006606]\n",
      "\t\tNew jac value:\n",
      "\t\t[[ 0.        ]\n",
      "\t\t [-0.27553411]\n",
      "\t\t [-0.20008763]\n",
      "\t\t [-0.090228  ]]\u001b[0m\n",
      "\u001b[32m\t\tStarting iteration: 4\u001b[0m\n",
      "\u001b[32m\t\tUpdating lower level variables...\u001b[0m\n",
      "\u001b[32m\t\tCurrent residual ||J^T r||_2: 7.553927904696164e-06\u001b[0m\n",
      "\u001b[32m\t\tCurrent ||r||_2: 2.15665120392612e-05\u001b[0m\n",
      "\u001b[32m\t\tCurrent ||J||_2: 0.35068348973442637\u001b[0m\n",
      "\u001b[32m\t\tCurrent cond(J): 1.0\u001b[0m\n",
      "\u001b[32m\t\tCurrent allowed lower level tolerance: 1.9041429186991604e-07\u001b[0m\n",
      "\u001b[32m\t\tNew x value:\n",
      "\t\t[2.00000464]\n",
      "\t\tNew jac value:\n",
      "\t\t[[ 0.        ]\n",
      "\t\t [-0.27440401]\n",
      "\t\t [-0.19915694]\n",
      "\t\t [-0.0895425 ]]\u001b[0m\n",
      "\u001b[32m\t\tStarting iteration: 5\u001b[0m\n",
      "\u001b[32m\t\tUpdating lower level variables...\u001b[0m\n",
      "\u001b[32m\t\tCurrent residual ||J^T r||_2: 5.705364273345304e-07\u001b[0m\n",
      "\u001b[32m\t\tCurrent ||r||_2: 1.6437829701113807e-06\u001b[0m\n",
      "\u001b[32m\t\tCurrent ||J||_2: 0.3506677917787622\u001b[0m\n",
      "\u001b[32m\t\tCurrent cond(J): 1.0\u001b[0m\n",
      "\u001b[32m\t\tCurrent allowed lower level tolerance: 1.4383951618479082e-08\u001b[0m\n",
      "\u001b[32mSolution: [2.]\u001b[0m\n"
     ]
    }
   ],
   "source": [
    "from pymloc import MultiLevelOptimalControl\n",
    "\n",
    "logger = logging.getLogger(\"pymloc.solvers.nonlinear.gauss_newton\")\n",
    "logger.setLevel(logging.DEBUG)\n",
    "logging.getLogger().handlers[0].filters[0].__class__.max_level = 3\n",
    "mloc = MultiLevelOptimalControl(optimizations, variables)\n",
    "\n",
    "np.set_printoptions(precision=8)\n",
    "mloc.init_solver(abs_tol=1e-6, rel_tol=1e-6)\n",
    "gauss_newton = mloc.highest_opt.local_level_variables.associated_problem.solver_instance\n",
    "gauss_newton.upper_eta = 0.01\n",
    "gauss_newton.save_intermediate = True\n",
    "solution = mloc.solve()\n",
    "logger.info(\"Solution: {}\".format(solution.solution))\n"
   ]
  },
  {
   "cell_type": "markdown",
   "metadata": {},
   "source": [
    "Create table of intermediate data"
   ]
  },
  {
   "cell_type": "code",
   "execution_count": 14,
   "metadata": {},
   "outputs": [
    {
     "name": "stdout",
     "output_type": "stream",
     "text": [
      "\\begin{tabular}{rrrrrrr}\n",
      "\\toprule\n",
      "   iteration &             x &             r &             J &           JTr &          atol &          cond \\\\\n",
      "\\midrule\n",
      "           0 & 1.0000000e+00 & 6.4720092e-01 & 1.0317612e+00 & 6.6603219e-01 & 1.0000000e-06 & 1.0000000e+00 \\\\\n",
      "           1 & 1.6256578e+00 & 1.6544195e-01 & 5.4563134e-01 & 9.0218292e-02 & 2.5501544e-03 & 1.0000000e+00 \\\\\n",
      "           2 & 1.9286950e+00 & 2.6234803e-02 & 3.8206638e-01 & 1.0023114e-02 & 9.1455423e-04 & 1.0000000e+00 \\\\\n",
      "           3 & 1.9973584e+00 & 9.5397297e-04 & 3.5227148e-01 & 3.3601046e-04 & 2.0425261e-04 & 1.0000000e+00 \\\\\n",
      "           4 & 2.0000661e+00 & 2.1566512e-05 & 3.5068349e-01 & 7.5539279e-06 & 8.3879383e-06 & 1.0000000e+00 \\\\\n",
      "           5 & 2.0000046e+00 & 1.6437830e-06 & 3.5066779e-01 & 5.7053643e-07 & 1.9041429e-07 & 1.0000000e+00 \\\\\n",
      "             & 2.0000000e+00 &               &               &               & 1.4383952e-08 &               \\\\\n",
      "\\bottomrule\n",
      "\\end{tabular}\n"
     ]
    }
   ],
   "source": [
    "import tabulate\n",
    "saved = solution.params['intermediates']\n",
    "\n",
    "print(tabulate.tabulate(saved,headers='keys',tablefmt='latex_booktabs',floatfmt='.7e'))"
   ]
  },
  {
   "cell_type": "markdown",
   "metadata": {},
   "source": [
    "##### Make the same computation for lower tolerances."
   ]
  },
  {
   "cell_type": "code",
   "execution_count": 15,
   "metadata": {},
   "outputs": [
    {
     "name": "stdout",
     "output_type": "stream",
     "text": [
      "\u001b[32m\tStarting solver MultiLevelIterativeSolver\u001b[0m\n",
      "\u001b[32m\tCurrent option values:\n",
      "\tabs_tol: 0.1\n",
      "\trel_tol: 0.1\n",
      "\tmax_iter: 10\u001b[0m\n",
      "\u001b[32m\t\tStarting solver GaussNewton\u001b[0m\n",
      "\u001b[32m\t\tCurrent option values:\n",
      "\t\tabs_tol: 0.1\n",
      "\t\trel_tol: 0.1\n",
      "\t\tmax_iter: 20\u001b[0m\n",
      "\u001b[32m\t\tStarting iteration: 0\u001b[0m\n",
      "\u001b[32m\t\tUpdating lower level variables...\u001b[0m\n",
      "\u001b[32m\t\tCurrent residual ||J^T r||_2: 0.6658138241615206\u001b[0m\n",
      "\u001b[32m\t\tCurrent ||r||_2: 0.6470057103540946\u001b[0m\n",
      "\u001b[32m\t\tCurrent ||J||_2: 1.0317489703858296\u001b[0m\n",
      "\u001b[32m\t\tCurrent cond(J): 1.0\u001b[0m\n",
      "\u001b[32m\t\tCurrent allowed lower level tolerance: 0.02331910759868696\u001b[0m\n",
      "\u001b[32m\t\tNew x value:\n",
      "\t\t[1.62546746]\n",
      "\t\tNew jac value:\n",
      "\t\t[[ 0.        ]\n",
      "\t\t [-0.69271174]\n",
      "\t\t [-0.64637097]\n",
      "\t\t [-0.40848617]]\u001b[0m\n",
      "\u001b[32m\t\tStarting iteration: 1\u001b[0m\n",
      "\u001b[32m\t\tUpdating lower level variables...\u001b[0m\n",
      "\u001b[32m\t\tCurrent residual ||J^T r||_2: 0.09548903338269828\u001b[0m\n",
      "\u001b[32m\t\tCurrent ||r||_2: 0.17109116894885706\u001b[0m\n",
      "\u001b[32m\t\tCurrent ||J||_2: 0.5586616718068592\u001b[0m\n",
      "\u001b[32m\t\tCurrent cond(J): 1.0\u001b[0m\n",
      "\u001b[32m\t\tCurrent allowed lower level tolerance: 0.008452008146137857\u001b[0m\n",
      "\u001b[32mSolution: [1.93142118]\u001b[0m\n"
     ]
    }
   ],
   "source": [
    "variables[0].current_values = np.array([1.])\n",
    "variables =(variables[0], InputStateVariables(1, 1, time=Time(0., 2.)))\n",
    "variables[1].current_values = np.array([])\n",
    "variables[1].time.grid = np.array([1., 1.3])\n",
    "\n",
    "mloc = MultiLevelOptimalControl(optimizations, variables)\n",
    "mloc.init_solver(abs_tol=1e-1, rel_tol=1e-1)\n",
    "\n",
    "gauss_newton = mloc.highest_opt.local_level_variables.associated_problem.solver_instance\n",
    "gauss_newton.upper_eta = 0.1\n",
    "gauss_newton.save_intermediate = True\n",
    "solution_low = mloc.solve()\n",
    "logger.info(\"Solution: {}\".format(solution_low.solution))"
   ]
  },
  {
   "cell_type": "code",
   "execution_count": 16,
   "metadata": {},
   "outputs": [
    {
     "name": "stdout",
     "output_type": "stream",
     "text": [
      "\\begin{tabular}{rrrrrrr}\n",
      "\\toprule\n",
      "   iteration &        x &        r &        J &      JTr &     atol &     cond \\\\\n",
      "\\midrule\n",
      "           0 & 1.00e+00 & 6.47e-01 & 1.03e+00 & 6.66e-01 & 1.00e-01 & 1.00e+00 \\\\\n",
      "           1 & 1.63e+00 & 1.71e-01 & 5.59e-01 & 9.55e-02 & 2.33e-02 & 1.00e+00 \\\\\n",
      "             & 1.93e+00 &          &          &          & 8.45e-03 &          \\\\\n",
      "\\bottomrule\n",
      "\\end{tabular}\n"
     ]
    }
   ],
   "source": [
    "import tabulate\n",
    "saved = solution_low.params['intermediates']\n",
    "\n",
    "print(tabulate.tabulate(saved,headers='keys',tablefmt='latex_booktabs',floatfmt='.2e'))"
   ]
  }
 ],
 "metadata": {
  "celltoolbar": "Raw Cell Format",
  "kernelspec": {
   "display_name": "Python [conda env:.conda-multilevel] *",
   "language": "python",
   "name": "conda-env-.conda-multilevel-py"
  },
  "language_info": {
   "codemirror_mode": {
    "name": "ipython",
    "version": 3
   },
   "file_extension": ".py",
   "mimetype": "text/x-python",
   "name": "python",
   "nbconvert_exporter": "python",
   "pygments_lexer": "ipython3",
   "version": "3.7.6"
  }
 },
 "nbformat": 4,
 "nbformat_minor": 4
}
