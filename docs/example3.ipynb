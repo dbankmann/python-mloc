{
 "cells": [
  {
   "cell_type": "markdown",
   "metadata": {},
   "source": [
    "### Example 3"
   ]
  },
  {
   "cell_type": "raw",
   "metadata": {
    "raw_mimetype": "text/restructuredtext"
   },
   "source": [
    "Corresponds to Example 5.1 in :cite:`Ban2020_ParameterDependentMultilevel`."
   ]
  },
  {
   "cell_type": "code",
   "execution_count": 1,
   "metadata": {},
   "outputs": [],
   "source": [
    "import pymloc\n",
    "import numpy as np\n",
    "import jax.numpy as jnp\n",
    "import warnings\n",
    "warnings.filterwarnings('ignore')"
   ]
  },
  {
   "cell_type": "markdown",
   "metadata": {},
   "source": [
    "#### Creating the variables object\n",
    "The variables for the different levels are defined as follows."
   ]
  },
  {
   "cell_type": "code",
   "execution_count": 2,
   "metadata": {},
   "outputs": [],
   "source": [
    "from pymloc.model.variables import InputStateVariables\n",
    "from pymloc.model.variables import NullVariables\n",
    "from pymloc.model.variables import ParameterContainer\n",
    "from pymloc.model.variables.time_function import Time\n",
    "from pymloc.model.domains import RNDomain\n",
    "\n",
    "\n",
    "loc_vars = InputStateVariables(1, 1, time=Time(0., 2.))\n",
    "hl_vars = ParameterContainer(1, domain=RNDomain(1))\n",
    "variables2 = (hl_vars, loc_vars)\n",
    "\n",
    "ll_vars = NullVariables()"
   ]
  },
  {
   "cell_type": "markdown",
   "metadata": {},
   "source": [
    "#### Creating the parameter optimal control object\n",
    "\n",
    "First, we need to create a parameter dependent optimal control problem.\n",
    "\n",
    "We need  `objective` and `constraint`.\n"
   ]
  },
  {
   "cell_type": "markdown",
   "metadata": {},
   "source": [
    "##### Creating the control system\n",
    "The parameter dependent control system is defined by"
   ]
  },
  {
   "cell_type": "code",
   "execution_count": 3,
   "metadata": {},
   "outputs": [],
   "source": [
    "from pymloc.model.control_system.parameter_dae import LinearParameterControlSystem\n",
    "\n",
    "def e(p, t):\n",
    "    return jnp.array([[1.]])\n",
    "\n",
    "\n",
    "def a(p, t):\n",
    "    return jnp.array([[-1.]])\n",
    "\n",
    "\n",
    "def b(p, t):\n",
    "    return jnp.array([[1.]])\n",
    "\n",
    "\n",
    "def c(p, t):\n",
    "    return jnp.array([[1.]])\n",
    "\n",
    "\n",
    "def d(p, t):\n",
    "    return jnp.array([[0.]])\n",
    "\n",
    "\n",
    "def f(p, t):\n",
    "    return jnp.array([0.])\n",
    "\n",
    "\n",
    "param_control = LinearParameterControlSystem(ll_vars, *variables2, e, a, b, c,\n",
    "                                             d, f)"
   ]
  },
  {
   "cell_type": "markdown",
   "metadata": {},
   "source": [
    "##### Creating the constraint object"
   ]
  },
  {
   "cell_type": "code",
   "execution_count": 4,
   "metadata": {},
   "outputs": [],
   "source": [
    "from pymloc.model.optimization.parameter_optimal_control import ParameterLQRConstraint\n",
    "\n",
    "\n",
    "def initial_value(p):\n",
    "    return jnp.array([2.])\n",
    "\n",
    "\n",
    "\n",
    "time = Time(0., 2.)\n",
    "\n",
    "pdoc_constraint = ParameterLQRConstraint(*variables2, param_control,\n",
    "                                         initial_value)\n"
   ]
  },
  {
   "cell_type": "markdown",
   "metadata": {},
   "source": [
    "##### Creating the objective function\n",
    "\n",
    "The objective function is defined by"
   ]
  },
  {
   "cell_type": "code",
   "execution_count": 5,
   "metadata": {},
   "outputs": [],
   "source": [
    "from pymloc.model.optimization.parameter_optimal_control import ParameterLQRObjective\n",
    "\n",
    "def q(p, t):\n",
    "    return jnp.array([[p**2. - 1.]])\n",
    "\n",
    "\n",
    "def s(p, t):\n",
    "    return jnp.zeros((1, 1))\n",
    "\n",
    "\n",
    "def r(p, t):\n",
    "    return jnp.array([[1.]])\n",
    "\n",
    "\n",
    "def m(p):\n",
    "    return jnp.array([[0.]])\n",
    "\n",
    "\n",
    "time = Time(0., 2.)\n",
    "pdoc_objective = ParameterLQRObjective(*variables2, time, q, s, r, m)\n"
   ]
  },
  {
   "cell_type": "markdown",
   "metadata": {},
   "source": [
    "##### Create the parameter dependent optimal control object"
   ]
  },
  {
   "cell_type": "code",
   "execution_count": 6,
   "metadata": {},
   "outputs": [],
   "source": [
    "from pymloc.model.optimization.parameter_optimal_control import ParameterDependentOptimalControl\n",
    "\n",
    "pdoc_object = ParameterDependentOptimalControl(*variables2, pdoc_objective,\n",
    "                                               pdoc_constraint)\n"
   ]
  },
  {
   "cell_type": "markdown",
   "metadata": {},
   "source": [
    "The neccessary conditions can be obtained as follows"
   ]
  },
  {
   "cell_type": "code",
   "execution_count": 7,
   "metadata": {
    "scrolled": true
   },
   "outputs": [
    {
     "name": "stdout",
     "output_type": "stream",
     "text": [
      "E =\n",
      " [[ 0.  1.  0.]\n",
      " [-1.  0.  0.]\n",
      " [-0.  0.  0.]],\n",
      "A =\n",
      " [[ 0. -1.  1.]\n",
      " [-1.  3.  0.]\n",
      " [ 1.  0.  1.]]\n"
     ]
    }
   ],
   "source": [
    "neccessary_conditions = pdoc_object.get_bvp()\n",
    "e = neccessary_conditions.dynamical_system.e(2., 3.)\n",
    "a = neccessary_conditions.dynamical_system.a(2., 3.)\n",
    "print(\"E =\\n {},\\nA =\\n {}\".format(e, a))"
   ]
  },
  {
   "cell_type": "markdown",
   "metadata": {},
   "source": [
    "#### Setting up the nonlinear least squares problem\n",
    "\n",
    "\n",
    "\n",
    "##### Define the residual function\n",
    "We define the residual function by using the true solution for the parameter value at 2 and comparing it with the current solution for the current parameter value."
   ]
  },
  {
   "cell_type": "code",
   "execution_count": 8,
   "metadata": {},
   "outputs": [],
   "source": [
    "def compute_ref_sol(theta, time, x0, t):\n",
    "    tf = time.t_f\n",
    "    t0 = time.t_0\n",
    "    exp0 = np.exp(2 * theta * (tf - t0))\n",
    "    exp1 = np.exp(-(t + t0) * theta)\n",
    "    exp2 = np.exp(2 * t * theta)\n",
    "    exp3 = np.exp(2 * tf * theta)\n",
    "    tmp1 = theta + exp0 * (theta + 1) - 1\n",
    "    tmp2 = np.array([\n",
    "        -(exp2 - exp3) * (theta**2 - 1),\n",
    "        (exp2 * (theta - 1) + exp3 * (theta + 1)),\n",
    "        (exp2 - exp3) * (theta**2 - 1)\n",
    "    ])\n",
    "\n",
    "    refsol = tmp1**-1 * tmp2 * exp1 * x0\n",
    "    return refsol"
   ]
  },
  {
   "cell_type": "code",
   "execution_count": 9,
   "metadata": {},
   "outputs": [],
   "source": [
    "theta = 2.\n",
    "t0 = 0.\n",
    "tf = 2.\n",
    "x01 = 2.\n",
    "time = Time(t0, tf)\n",
    "t2 = 1.3\n",
    "t1 = 1.\n",
    "\n",
    "\n",
    "def f_nlsq(ll_vars, hl_vars, loc_vars):\n",
    "    sol1 = compute_ref_sol(theta, time, x01, t1)\n",
    "    sol2 = compute_ref_sol(theta, time, x01, t2)\n",
    "    sol0 = compute_ref_sol(theta, time, x01, t0)\n",
    "    solf = compute_ref_sol(theta, time, x01, tf)\n",
    "    f1 = ll_vars(t1)[1] - sol1[1]\n",
    "    f2 = ll_vars(t2)[1] - sol2[1]\n",
    "    f0 = ll_vars(t0)[1] - sol0[1]\n",
    "    ff = ll_vars(tf)[1] - solf[1]\n",
    "    return np.hstack((f0, f1, f2, ff))"
   ]
  },
  {
   "cell_type": "markdown",
   "metadata": {},
   "source": [
    "##### Define the NonlinearLeastSquares optimization object"
   ]
  },
  {
   "cell_type": "code",
   "execution_count": 10,
   "metadata": {},
   "outputs": [],
   "source": [
    "import pymloc.model.optimization as optimization\n",
    "variables = (variables2[1], NullVariables(), variables2[0])\n",
    "nlsq_obj =  optimization.objectives.NonLinearLeastSquares(*variables, f_nlsq)\n",
    "\n",
    "nlsq =  optimization.NonLinearLeastSquares(nlsq_obj, *variables)"
   ]
  },
  {
   "cell_type": "markdown",
   "metadata": {},
   "source": [
    "#### Setting up the bilevel optimal control problem\n"
   ]
  },
  {
   "cell_type": "markdown",
   "metadata": {},
   "source": [
    "##### Compute solution\n",
    "We are now able to set up the multilevel optimal control problem by setting the optimizations and variables in the corresponding order"
   ]
  },
  {
   "cell_type": "code",
   "execution_count": 11,
   "metadata": {},
   "outputs": [],
   "source": [
    "import logging\n",
    "logger = logging.getLogger(__name__)\n",
    "logging.getLogger().setLevel(logging.INFO)\n",
    "\n",
    "optimizations = [nlsq, pdoc_object]\n",
    "variables = (variables2[0], variables2[1])\n",
    "variables[0].current_values = np.array([1.])\n",
    "variables[1].current_values = np.array([])\n",
    "variables[1].time.grid = np.array([1., 1.3])\n"
   ]
  },
  {
   "cell_type": "markdown",
   "metadata": {},
   "source": [
    "We also only want sensitivities of the x component and thus, set the selector accordingly."
   ]
  },
  {
   "cell_type": "code",
   "execution_count": 12,
   "metadata": {},
   "outputs": [],
   "source": [
    "pdoc_object.ll_sens_selector_shape = (1, 3)\n",
    "pdoc_object.ll_sens_selector = lambda p: np.array([[0., 1., 0.]])\n"
   ]
  },
  {
   "cell_type": "markdown",
   "metadata": {},
   "source": [
    "Then, wen can initialize and run the multilevel optimal control problem"
   ]
  },
  {
   "cell_type": "code",
   "execution_count": 13,
   "metadata": {},
   "outputs": [
    {
     "name": "stdout",
     "output_type": "stream",
     "text": [
      "\u001b[32m\tStarting solver MultiLevelIterativeSolver\u001b[0m\n",
      "\u001b[32m\tCurrent option values:\n",
      "\tabs_tol: 1e-06\n",
      "\trel_tol: 1e-06\n",
      "\tmax_iter: 10\u001b[0m\n",
      "\u001b[32m\t\tStarting solver GaussNewton\u001b[0m\n",
      "\u001b[32m\t\tCurrent option values:\n",
      "\t\tabs_tol: 1e-06\n",
      "\t\trel_tol: 1e-06\n",
      "\t\tmax_iter: 20\u001b[0m\n",
      "\u001b[32m\t\tStarting iteration: 0\u001b[0m\n",
      "\u001b[32m\t\tUpdating lower level variables...\u001b[0m\n",
      "\u001b[32m\t\tCurrent residual ||J^T r||_2: 0.6660321871331705\u001b[0m\n",
      "\u001b[32m\t\tCurrent ||r||_2: 0.6472009202931233\u001b[0m\n",
      "\u001b[32m\t\tCurrent ||J||_2: 1.0317611699564475\u001b[0m\n",
      "\u001b[32m\t\tCurrent cond(J): 1.0\u001b[0m\n",
      "\u001b[32m\t\tCurrent allowed lower level tolerance: 0.0035702352775026083\u001b[0m\n",
      "\u001b[32m\t\tNew x value:\n",
      "\t\t[1.62565779]\n",
      "\t\tNew jac value:\n",
      "\t\t[[ 0.        ]\n",
      "\t\t [-0.69271902]\n",
      "\t\t [-0.64637977]\n",
      "\t\t [-0.40849072]]\u001b[0m\n",
      "\u001b[32m\t\tStarting iteration: 1\u001b[0m\n",
      "\u001b[32m\t\tUpdating lower level variables...\u001b[0m\n",
      "\u001b[32m\t\tCurrent residual ||J^T r||_2: 0.09165553869510222\u001b[0m\n",
      "\u001b[32m\t\tCurrent ||r||_2: 0.16773266166383394\u001b[0m\n",
      "\u001b[32m\t\tCurrent ||J||_2: 0.5467870000215967\u001b[0m\n",
      "\u001b[32m\t\tCurrent cond(J): 1.0\u001b[0m\n",
      "\u001b[32m\t\tCurrent allowed lower level tolerance: 0.0011544816643815248\u001b[0m\n",
      "\u001b[32m\t\tNew x value:\n",
      "\t\t[1.93222264]\n",
      "\t\tNew jac value:\n",
      "\t\t[[ 0.        ]\n",
      "\t\t [-0.4036058 ]\n",
      "\t\t [-0.32629366]\n",
      "\t\t [-0.17207797]]\u001b[0m\n",
      "\u001b[32m\t\tStarting iteration: 2\u001b[0m\n",
      "\u001b[32m\t\tUpdating lower level variables...\u001b[0m\n",
      "\u001b[32m\t\tCurrent residual ||J^T r||_2: 0.009859406023869139\u001b[0m\n",
      "\u001b[32m\t\tCurrent ||r||_2: 0.025940126171277413\u001b[0m\n",
      "\u001b[32m\t\tCurrent ||J||_2: 0.3807493894232654\u001b[0m\n",
      "\u001b[32m\t\tCurrent cond(J): 1.0\u001b[0m\n",
      "\u001b[32m\t\tCurrent allowed lower level tolerance: 0.000218187710310408\u001b[0m\n",
      "\u001b[32m\t\tNew x value:\n",
      "\t\t[2.00023257]\n",
      "\t\tNew jac value:\n",
      "\t\t[[ 0.        ]\n",
      "\t\t [-0.29478417]\n",
      "\t\t [-0.21844598]\n",
      "\t\t [-0.10175336]]\u001b[0m\n",
      "\u001b[32m\t\tStarting iteration: 3\u001b[0m\n",
      "\u001b[32m\t\tUpdating lower level variables...\u001b[0m\n",
      "\u001b[32m\t\tCurrent residual ||J^T r||_2: 1.9837633623084986e-05\u001b[0m\n",
      "\u001b[32m\t\tCurrent ||r||_2: 5.8307673091320394e-05\u001b[0m\n",
      "\u001b[32m\t\tCurrent ||J||_2: 0.3511490449955347\u001b[0m\n",
      "\u001b[32m\t\tCurrent cond(J): 1.0\u001b[0m\n",
      "\u001b[32m\t\tCurrent allowed lower level tolerance: 5.083569613538848e-07\u001b[0m\n",
      "\u001b[32m\t\tNew x value:\n",
      "\t\t[2.00007169]\n",
      "\t\tNew jac value:\n",
      "\t\t[[ 0.        ]\n",
      "\t\t [-0.27477748]\n",
      "\t\t [-0.19934609]\n",
      "\t\t [-0.08980049]]\u001b[0m\n",
      "\u001b[32m\t\tStarting iteration: 4\u001b[0m\n",
      "\u001b[32m\t\tUpdating lower level variables...\u001b[0m\n",
      "\u001b[32m\t\tCurrent residual ||J^T r||_2: 8.545028411446732e-06\u001b[0m\n",
      "\u001b[32m\t\tCurrent ||r||_2: 2.438346736758167e-05\u001b[0m\n",
      "\u001b[32m\t\tCurrent ||J||_2: 0.3506429256172566\u001b[0m\n",
      "\u001b[32m\t\tCurrent cond(J): 1.0\u001b[0m\n",
      "\u001b[32m\t\tCurrent allowed lower level tolerance: 2.193111639170835e-07\u001b[0m\n",
      "\u001b[32m\t\tNew x value:\n",
      "\t\t[2.00000219]\n",
      "\t\tNew jac value:\n",
      "\t\t[[ 0.        ]\n",
      "\t\t [-0.27437677]\n",
      "\t\t [-0.19913828]\n",
      "\t\t [-0.08950864]]\u001b[0m\n",
      "\u001b[32m\t\tStarting iteration: 5\u001b[0m\n",
      "\u001b[32m\t\tUpdating lower level variables...\u001b[0m\n",
      "\u001b[32m\t\tCurrent residual ||J^T r||_2: 2.8684133295551495e-07\u001b[0m\n",
      "\u001b[32m\t\tCurrent ||r||_2: 8.745967825154721e-07\u001b[0m\n",
      "\u001b[32m\t\tCurrent ||J||_2: 0.3506692708226513\u001b[0m\n",
      "\u001b[32m\t\tCurrent cond(J): 1.0\u001b[0m\n",
      "\u001b[32m\t\tCurrent allowed lower level tolerance: 7.3618242964819176e-09\u001b[0m\n",
      "\u001b[32mSolution: [1.99999986]\u001b[0m\n"
     ]
    }
   ],
   "source": [
    "from pymloc import MultiLevelOptimalControl\n",
    "\n",
    "logger = logging.getLogger(\"pymloc.solvers.nonlinear.gauss_newton\")\n",
    "logger.setLevel(logging.DEBUG)\n",
    "logging.getLogger().handlers[0].filters[0].__class__.max_level = 3\n",
    "mloc = MultiLevelOptimalControl(optimizations, variables)\n",
    "\n",
    "np.set_printoptions(precision=8)\n",
    "mloc.init_solver(abs_tol=1e-6, rel_tol=1e-6)\n",
    "gauss_newton = mloc.highest_opt.local_level_variables.associated_problem.solver_instance\n",
    "gauss_newton.upper_eta = 0.01\n",
    "gauss_newton.save_intermediate = True\n",
    "solution = mloc.solve()\n",
    "logger.info(\"Solution: {}\".format(solution.solution))\n"
   ]
  },
  {
   "cell_type": "markdown",
   "metadata": {},
   "source": [
    "Create table of intermediate data"
   ]
  },
  {
   "cell_type": "code",
   "execution_count": 14,
   "metadata": {},
   "outputs": [
    {
     "name": "stdout",
     "output_type": "stream",
     "text": [
      "\\begin{tabular}{rrrrrrr}\n",
      "\\toprule\n",
      "   iteration &             x &             r &             J &           JTr &          atol &          cond \\\\\n",
      "\\midrule\n",
      "           0 & 1.0000000e+00 & 6.4720092e-01 & 1.0317612e+00 & 6.6603219e-01 & 1.0000000e-06 & 1.0000000e+00 \\\\\n",
      "           1 & 1.6256578e+00 & 1.6773266e-01 & 5.4678700e-01 & 9.1655539e-02 & 3.5702353e-03 & 1.0000000e+00 \\\\\n",
      "           2 & 1.9322226e+00 & 2.5940126e-02 & 3.8074939e-01 & 9.8594060e-03 & 1.1544817e-03 & 1.0000000e+00 \\\\\n",
      "           3 & 2.0002326e+00 & 5.8307673e-05 & 3.5114904e-01 & 1.9837634e-05 & 2.1818771e-04 & 1.0000000e+00 \\\\\n",
      "           4 & 2.0000717e+00 & 2.4383467e-05 & 3.5064293e-01 & 8.5450284e-06 & 5.0835696e-07 & 1.0000000e+00 \\\\\n",
      "           5 & 2.0000022e+00 & 8.7459678e-07 & 3.5066927e-01 & 2.8684133e-07 & 2.1931116e-07 & 1.0000000e+00 \\\\\n",
      "             & 1.9999999e+00 &               &               &               & 7.3618243e-09 &               \\\\\n",
      "\\bottomrule\n",
      "\\end{tabular}\n"
     ]
    }
   ],
   "source": [
    "import tabulate\n",
    "saved = solution.params['intermediates']\n",
    "\n",
    "print(tabulate.tabulate(saved,headers='keys',tablefmt='latex_booktabs',floatfmt='.7e'))"
   ]
  },
  {
   "cell_type": "markdown",
   "metadata": {},
   "source": [
    "##### Make the same computation for lower tolerances."
   ]
  },
  {
   "cell_type": "code",
   "execution_count": 15,
   "metadata": {},
   "outputs": [
    {
     "name": "stdout",
     "output_type": "stream",
     "text": [
      "\u001b[32m\tStarting solver MultiLevelIterativeSolver\u001b[0m\n",
      "\u001b[32m\tCurrent option values:\n",
      "\tabs_tol: 0.1\n",
      "\trel_tol: 0.1\n",
      "\tmax_iter: 10\u001b[0m\n",
      "\u001b[32m\t\tStarting solver GaussNewton\u001b[0m\n",
      "\u001b[32m\t\tCurrent option values:\n",
      "\t\tabs_tol: 0.1\n",
      "\t\trel_tol: 0.1\n",
      "\t\tmax_iter: 20\u001b[0m\n",
      "\u001b[32m\t\tStarting iteration: 0\u001b[0m\n",
      "\u001b[32m\t\tUpdating lower level variables...\u001b[0m\n",
      "\u001b[32m\t\tCurrent residual ||J^T r||_2: 0.6658144439626268\u001b[0m\n",
      "\u001b[32m\t\tCurrent ||r||_2: 0.6470057103540946\u001b[0m\n",
      "\u001b[32m\t\tCurrent ||J||_2: 1.031749934640972\u001b[0m\n",
      "\u001b[32m\t\tCurrent cond(J): 1.0\u001b[0m\n",
      "\u001b[32m\t\tCurrent allowed lower level tolerance: 0.03569506981870046\u001b[0m\n",
      "\u001b[32m\t\tNew x value:\n",
      "\t\t[1.62546687]\n",
      "\t\tNew jac value:\n",
      "\t\t[[ 0.        ]\n",
      "\t\t [-0.69271232]\n",
      "\t\t [-0.64637165]\n",
      "\t\t [-0.40848655]]\u001b[0m\n",
      "\u001b[32m\t\tStarting iteration: 1\u001b[0m\n",
      "\u001b[32m\t\tUpdating lower level variables...\u001b[0m\n",
      "\u001b[32m\t\tCurrent residual ||J^T r||_2: 0.09630382405996354\u001b[0m\n",
      "\u001b[32m\t\tCurrent ||r||_2: 0.1722545493267827\u001b[0m\n",
      "\u001b[32m\t\tCurrent ||J||_2: 0.5596478536920525\u001b[0m\n",
      "\u001b[32m\t\tCurrent cond(J): 1.0\u001b[0m\n",
      "\u001b[32m\t\tCurrent allowed lower level tolerance: 0.011842213018630665\u001b[0m\n",
      "\u001b[32mSolution: [1.93294473]\u001b[0m\n"
     ]
    }
   ],
   "source": [
    "variables[0].current_values = np.array([1.])\n",
    "variables =(variables[0], InputStateVariables(1, 1, time=Time(0., 2.)))\n",
    "variables[1].current_values = np.array([])\n",
    "variables[1].time.grid = np.array([1., 1.3])\n",
    "\n",
    "mloc = MultiLevelOptimalControl(optimizations, variables)\n",
    "mloc.init_solver(abs_tol=1e-1, rel_tol=1e-1)\n",
    "\n",
    "gauss_newton = mloc.highest_opt.local_level_variables.associated_problem.solver_instance\n",
    "gauss_newton.upper_eta = 0.1\n",
    "gauss_newton.save_intermediate = True\n",
    "solution_low = mloc.solve()\n",
    "logger.info(\"Solution: {}\".format(solution_low.solution))"
   ]
  },
  {
   "cell_type": "code",
   "execution_count": 16,
   "metadata": {},
   "outputs": [
    {
     "name": "stdout",
     "output_type": "stream",
     "text": [
      "\\begin{tabular}{rrrrrrr}\n",
      "\\toprule\n",
      "   iteration &        x &        r &        J &      JTr &     atol &     cond \\\\\n",
      "\\midrule\n",
      "           0 & 1.00e+00 & 6.47e-01 & 1.03e+00 & 6.66e-01 & 1.00e-01 & 1.00e+00 \\\\\n",
      "           1 & 1.63e+00 & 1.72e-01 & 5.60e-01 & 9.63e-02 & 3.57e-02 & 1.00e+00 \\\\\n",
      "             & 1.93e+00 &          &          &          & 1.18e-02 &          \\\\\n",
      "\\bottomrule\n",
      "\\end{tabular}\n"
     ]
    }
   ],
   "source": [
    "import tabulate\n",
    "saved = solution_low.params['intermediates']\n",
    "\n",
    "print(tabulate.tabulate(saved,headers='keys',tablefmt='latex_booktabs',floatfmt='.2e'))"
   ]
  }
 ],
 "metadata": {
  "celltoolbar": "Raw Cell Format",
  "kernelspec": {
   "display_name": "Python [conda env:.conda-multilevel] *",
   "language": "python",
   "name": "conda-env-.conda-multilevel-py"
  },
  "language_info": {
   "codemirror_mode": {
    "name": "ipython",
    "version": 3
   },
   "file_extension": ".py",
   "mimetype": "text/x-python",
   "name": "python",
   "nbconvert_exporter": "python",
   "pygments_lexer": "ipython3",
   "version": "3.7.6"
  }
 },
 "nbformat": 4,
 "nbformat_minor": 4
}
