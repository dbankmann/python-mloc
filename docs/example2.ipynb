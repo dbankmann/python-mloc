{
 "cells": [
  {
   "cell_type": "markdown",
   "metadata": {},
   "source": [
    "### Example 2"
   ]
  },
  {
   "cell_type": "raw",
   "metadata": {
    "raw_mimetype": "text/restructuredtext"
   },
   "source": [
    "Corresponds to Example 4.7 in :cite:`Ban2020_ParameterDependentMultilevel`."
   ]
  },
  {
   "cell_type": "code",
   "execution_count": 1,
   "metadata": {},
   "outputs": [],
   "source": [
    "import pymloc\n",
    "import numpy as np\n",
    "import jax.numpy as jnp\n",
    "import jax\n",
    "import warnings\n",
    "warnings.filterwarnings('ignore')"
   ]
  },
  {
   "cell_type": "markdown",
   "metadata": {},
   "source": [
    "#### Creating the object\n",
    "\n",
    "First, we need to create a parameter dependent optimal control problem.\n",
    "\n",
    "We need `variables`, `objective` and `constraint`.\n",
    "\n",
    "#### Creating the variables object\n",
    "The variables for the different levels are defined as follows."
   ]
  },
  {
   "cell_type": "code",
   "execution_count": 2,
   "metadata": {},
   "outputs": [],
   "source": [
    "from pymloc.model.variables import InputStateVariables\n",
    "from pymloc.model.variables import NullVariables\n",
    "from pymloc.model.variables import ParameterContainer\n",
    "from pymloc.model.variables.time_function import Time\n",
    "from pymloc.model.domains import RNDomain\n",
    "\n",
    "\n",
    "loc_vars = InputStateVariables(2, 1, time=Time(0., 2.))\n",
    "hl_vars = ParameterContainer(2, domain=RNDomain(2))\n",
    "variables2 = (hl_vars, loc_vars)\n",
    "\n",
    "ll_vars = NullVariables()"
   ]
  },
  {
   "cell_type": "markdown",
   "metadata": {},
   "source": [
    "#### Creating the control system\n",
    "The parameter dependent control system is defined by"
   ]
  },
  {
   "cell_type": "code",
   "execution_count": 3,
   "metadata": {},
   "outputs": [],
   "source": [
    "from pymloc.model.control_system.parameter_dae import LinearParameterControlSystem\n",
    "\n",
    "@jax.jit\n",
    "def e(p, t):\n",
    "    q = p[1]\n",
    "    return jnp.array([[1., 0.], [q, 0.]])\n",
    "\n",
    "@jax.jit\n",
    "def a(p, t):\n",
    "    q = p[1]\n",
    "    return jnp.array([[-1., 0.], [-q, 1.]])\n",
    "\n",
    "@jax.jit\n",
    "def b(p, t):\n",
    "    q = p[1]\n",
    "    return jnp.array([[1.], [q]])\n",
    "\n",
    "@jax.jit\n",
    "def c(p, t):\n",
    "    return jnp.identity(2)\n",
    "\n",
    "@jax.jit\n",
    "def d(p, t):\n",
    "    return np.array([[0.]])\n",
    "\n",
    "@jax.jit\n",
    "def f(p, t):\n",
    "    return np.array([0., 0.])\n",
    "\n",
    "\n",
    "\n",
    "param_control = LinearParameterControlSystem(ll_vars, *variables2, e, a, b, c,\n",
    "                                             d, f)"
   ]
  },
  {
   "cell_type": "markdown",
   "metadata": {},
   "source": [
    "#### Creating the constraint object"
   ]
  },
  {
   "cell_type": "code",
   "execution_count": 4,
   "metadata": {},
   "outputs": [],
   "source": [
    "from pymloc.model.optimization.parameter_optimal_control import ParameterLQRConstraint\n",
    "\n",
    "\n",
    "def initial_value(p):\n",
    "    return np.array([2., 0.])\n",
    "\n",
    "\n",
    "\n",
    "time = Time(0., 2.)\n",
    "\n",
    "pdoc_constraint = ParameterLQRConstraint(*variables2, param_control,\n",
    "                                         initial_value)\n"
   ]
  },
  {
   "cell_type": "markdown",
   "metadata": {},
   "source": [
    "#### Creating the objective function\n",
    "\n",
    "The objective function is defined by"
   ]
  },
  {
   "cell_type": "code",
   "execution_count": 5,
   "metadata": {},
   "outputs": [],
   "source": [
    "from pymloc.model.optimization.parameter_optimal_control import ParameterLQRObjective\n",
    "\n",
    "@jax.jit\n",
    "def q(p, t):\n",
    "    return jnp.array([[p[0]**2. - 1., 0.], [0., 0.]])\n",
    "\n",
    "@jax.jit\n",
    "def s(p, t):\n",
    "    return np.zeros((2, 1))\n",
    "\n",
    "@jax.jit\n",
    "def r(p, t):\n",
    "    return jnp.array([[1.]])\n",
    "\n",
    "@jax.jit\n",
    "def m(p):\n",
    "    return jnp.zeros((2, 2))\n",
    "\n",
    "\n",
    "\n",
    "time = Time(0., 2.)\n",
    "pdoc_objective = ParameterLQRObjective(*variables2, time, q, s, r, m)\n"
   ]
  },
  {
   "cell_type": "markdown",
   "metadata": {},
   "source": [
    "#### Create the parameter dependent optimal control object"
   ]
  },
  {
   "cell_type": "code",
   "execution_count": 6,
   "metadata": {},
   "outputs": [],
   "source": [
    "from pymloc.model.optimization.parameter_optimal_control import ParameterDependentOptimalControl\n",
    "\n",
    "pdoc_object = ParameterDependentOptimalControl(*variables2, pdoc_objective,\n",
    "                                               pdoc_constraint)\n"
   ]
  },
  {
   "cell_type": "markdown",
   "metadata": {},
   "source": [
    "The neccessary conditions can be obtained as follows"
   ]
  },
  {
   "cell_type": "code",
   "execution_count": 7,
   "metadata": {
    "scrolled": false
   },
   "outputs": [
    {
     "name": "stdout",
     "output_type": "stream",
     "text": [
      "E =\n",
      " [[ 0.  0.  1.  0.  0.]\n",
      " [ 0.  0.  4.  0.  0.]\n",
      " [-1. -4.  0.  0.  0.]\n",
      " [-0. -0.  0.  0.  0.]\n",
      " [-0. -0.  0.  0.  0.]],\n",
      "A =\n",
      " [[ 0.  0. -1.  0.  1.]\n",
      " [ 0.  0. -4.  1.  4.]\n",
      " [-1. -4.  3.  0.  0.]\n",
      " [ 0.  1.  0.  0.  0.]\n",
      " [ 1.  4.  0.  0.  1.]]\n"
     ]
    }
   ],
   "source": [
    "parameters = np.array([2.,4.])\n",
    "time = 3.\n",
    "\n",
    "neccessary_conditions = pdoc_object.get_bvp()\n",
    "e = neccessary_conditions.dynamical_system.e(parameters, time)\n",
    "a = neccessary_conditions.dynamical_system.a(parameters, time)\n",
    "print(\"E =\\n {},\\nA =\\n {}\".format(e, a))"
   ]
  },
  {
   "cell_type": "markdown",
   "metadata": {},
   "source": [
    "#### Obtaining sensitivity values\n",
    "\n",
    "\n",
    "\n",
    "##### Reference solution\n",
    "A reference solution is given analytically and defined by\n",
    "\n"
   ]
  },
  {
   "cell_type": "code",
   "execution_count": 8,
   "metadata": {},
   "outputs": [],
   "source": [
    "def refsol(theta, t0, tf, t, x01):\n",
    "    refsol = np.array(\n",
    "        [[(1 / ((-1 + theta + np.exp(2 * (-t0 + tf) * theta) *\n",
    "                 (1 + theta))**2)) * np.exp(-(t + t0) * theta) * x01 *\n",
    "          (np.exp(-2 * (t0 - 2 * tf) * theta) * (1 + theta)**2 *\n",
    "           (1 + t + t0 *\n",
    "            (-1 + theta) - t * theta) - np.exp(2 * (t - t0 + tf) * theta) *\n",
    "           (1 + theta)**2 *\n",
    "           (1 + 2 * tf + t * (-1 + theta) + t0 *\n",
    "            (-1 + theta) - 2 * tf * theta) - np.exp(2 * t * theta) * 2 *\n",
    "           (-1 + theta)**2 * (1 + t * (1 + theta) - t0 *\n",
    "                              (1 + theta)) + np.exp(2 * tf * theta) *\n",
    "           (-1 + theta)**2 * (1 - t * (1 + theta) - t0 * (1 + theta) + 2 * tf *\n",
    "                              (1 + theta)))],\n",
    "         [(1 / ((-1 + theta + np.exp(2 * (-t0 + tf) * theta) *\n",
    "                 (1 + theta))**2)) * np.exp(-(t + t0) * theta) * x01 *\n",
    "          (np.exp(2 * t * theta) * (t - t0) *\n",
    "           (-1 + theta)**2 + np.exp(-2 * t0 * theta + 4 * tf * theta) *\n",
    "           (-t + t0) * (1 + theta)**2 + np.exp(2 * tf * theta) *\n",
    "           (-2 + t + t0 - 2 * tf -\n",
    "            (t + t0 - 2 * tf) * theta**2) + np.exp(2 * (t - t0 + tf) * theta) *\n",
    "           (2 - t - t0 + 2 * tf + (t + t0 - 2 * tf) * theta**2))]])\n",
    "    return refsol\n"
   ]
  },
  {
   "cell_type": "markdown",
   "metadata": {},
   "source": [
    "##### Computed solution\n",
    "\n",
    "Run the default sensitivities solver (adjoint computation) for different tolerances and collect data in `results` and `iresults`.\n",
    "\n",
    "The summands of the adjoint solution are displayed in the last log message."
   ]
  },
  {
   "cell_type": "code",
   "execution_count": 9,
   "metadata": {},
   "outputs": [
    {
     "name": "stdout",
     "output_type": "stream",
     "text": [
      "\u001b[32m\tStarting solver AdjointSensitivitiesSolver\u001b[0m\n",
      "\u001b[32m\tCurrent option values:\n",
      "\tabs_tol: 1e-06\n",
      "\trel_tol: 1e-06\n",
      "\tmax_iter: 10\u001b[0m\n",
      "\u001b[32m\tCompute sensitivity at tau = 1.0\u001b[0m\n",
      "\u001b[32m\t\tStarting solver MultipleShooting\u001b[0m\n",
      "\u001b[32m\t\tCurrent option values:\n",
      "\t\tabs_tol: 1.6666666666666665e-07\n",
      "\t\trel_tol: 1.6666666666666665e-07\n",
      "\t\tmax_iter: 10\u001b[0m\n",
      "\u001b[32m\t\tMultipleShooting solver initialized with\n",
      "\t\t\n",
      "\t\t        shooting_nodes: [0.  0.5 1.  1.5 2. ]\n",
      "\t\t\n",
      "\t\t        boundary_nodes: (0.0, 2.0)\n",
      "\t\t\u001b[0m\n",
      "\u001b[32m\t\tComputing solution in the interval (0.0, 0.5)\u001b[0m\n",
      "\u001b[32m\t\tComputing solution in the interval (0.5, 1.0)\u001b[0m\n",
      "\u001b[32m\t\tComputing solution in the interval (1.0, 1.5)\u001b[0m\n",
      "\u001b[32m\t\tComputing solution in the interval (1.5, 2.0)\u001b[0m\n",
      "\u001b[32m\t\tComputing inhomogeneous solution in the interval (0.0, 0.5)\u001b[0m\n",
      "\u001b[32m\t\tComputing inhomogeneous solution in the interval (0.5, 1.0)\u001b[0m\n",
      "\u001b[32m\t\tComputing inhomogeneous solution in the interval (1.0, 1.5)\u001b[0m\n",
      "\u001b[32m\t\tComputing inhomogeneous solution in the interval (1.5, 2.0)\u001b[0m\n",
      "\u001b[32m\t\tComputing inhomogeneous solution in the interval (0.0, 0.5)\u001b[0m\n",
      "\u001b[32m\t\tComputing inhomogeneous solution in the interval (0.5, 1.0)\u001b[0m\n",
      "\u001b[32m\t\tComputing inhomogeneous solution in the interval (1.0, 1.5)\u001b[0m\n",
      "\u001b[32m\t\tComputing inhomogeneous solution in the interval (1.5, 2.0)\u001b[0m\n",
      "\u001b[32m\tAssembling adjoint sensitivity boundary value problem...\u001b[0m\n",
      "\u001b[32m\tSolving adjoint boundary value problem...\u001b[0m\n",
      "\u001b[32m\t\tStarting solver MultipleShooting\u001b[0m\n",
      "\u001b[32m\t\tCurrent option values:\n",
      "\t\tabs_tol: 1.6666666666666665e-07\n",
      "\t\trel_tol: 1.6666666666666665e-07\n",
      "\t\tmax_iter: 10\u001b[0m\n",
      "\u001b[32m\t\tMultipleShooting solver initialized with\n",
      "\t\t\n",
      "\t\t        shooting_nodes: [0. 1. 2.]\n",
      "\t\t\n",
      "\t\t        boundary_nodes: (0.0, 1.0, 2.0)\n",
      "\t\t\u001b[0m\n",
      "\u001b[32m\t\tComputing solution in the interval (0.0, 1.0)\u001b[0m\n",
      "\u001b[32m\t\tComputing solution in the interval (1.0, 2.0)\u001b[0m\n",
      "\u001b[32m\t\tComputing inhomogeneous solution in the interval (0.0, 1.0)\u001b[0m\n",
      "\u001b[32m\t\tComputing inhomogeneous solution in the interval (1.0, 2.0)\u001b[0m\n",
      "\u001b[32m\t\tComputing inhomogeneous solution in the interval (0.0, 1.0)\u001b[0m\n",
      "\u001b[32m\t\tComputing inhomogeneous solution in the interval (1.0, 2.0)\u001b[0m\n",
      "\u001b[32m\t\tComputing inhomogeneous solution in the interval (0.0, 1.0)\u001b[0m\n",
      "\u001b[32m\t\tComputing inhomogeneous solution in the interval (1.0, 2.0)\u001b[0m\n",
      "\u001b[32m\tAll summands:\n",
      "\t[[[ 0.00000000e+00  0.00000000e+00]\n",
      "\t  [ 0.00000000e+00  0.00000000e+00]\n",
      "\t  [ 0.00000000e+00  0.00000000e+00]\n",
      "\t  [ 0.00000000e+00  0.00000000e+00]\n",
      "\t  [ 0.00000000e+00  0.00000000e+00]]\n",
      "\t\n",
      "\t [[ 2.86313431e-47  1.32841688e-01]\n",
      "\t  [ 6.87427168e-47  7.37419503e-17]\n",
      "\t  [-6.68522895e-48  3.02305565e-17]\n",
      "\t  [ 2.71185104e-16  6.26624420e-17]\n",
      "\t  [-6.22391196e-32 -1.32841688e-01]]\n",
      "\t\n",
      "\t [[ 0.00000000e+00  0.00000000e+00]\n",
      "\t  [ 0.00000000e+00  0.00000000e+00]\n",
      "\t  [ 0.00000000e+00  0.00000000e+00]\n",
      "\t  [ 0.00000000e+00  0.00000000e+00]\n",
      "\t  [ 0.00000000e+00  0.00000000e+00]]\n",
      "\t\n",
      "\t [[ 0.00000000e+00  0.00000000e+00]\n",
      "\t  [ 0.00000000e+00  0.00000000e+00]\n",
      "\t  [ 0.00000000e+00  0.00000000e+00]\n",
      "\t  [ 0.00000000e+00  0.00000000e+00]\n",
      "\t  [ 0.00000000e+00  0.00000000e+00]]\n",
      "\t\n",
      "\t [[ 0.00000000e+00 -2.94967754e-17]\n",
      "\t  [ 0.00000000e+00  0.00000000e+00]\n",
      "\t  [ 0.00000000e+00 -3.02305503e-17]\n",
      "\t  [ 0.00000000e+00  0.00000000e+00]\n",
      "\t  [ 0.00000000e+00  2.94967754e-17]]\n",
      "\t\n",
      "\t [[ 1.00131499e-02 -1.32843861e-01]\n",
      "\t  [ 0.00000000e+00  0.00000000e+00]\n",
      "\t  [-2.74401376e-01  3.69198159e-07]\n",
      "\t  [ 0.00000000e+00  0.00000000e+00]\n",
      "\t  [-1.00131499e-02  1.32843861e-01]]]\u001b[0m\n",
      "Absolute error:  7.910407058878245e-06\n"
     ]
    },
    {
     "data": {
      "text/plain": [
       "True"
      ]
     },
     "execution_count": 9,
     "metadata": {},
     "output_type": "execute_result"
    }
   ],
   "source": [
    "import logging\n",
    "logger = logging.getLogger()\n",
    "logger.handlers[0].filters[0].__class__.max_level = 3\n",
    "\n",
    "sens = pdoc_object.get_sensitivities()\n",
    "sens.init_solver(abs_tol=1e-6, rel_tol=1e-6)\n",
    "sol = sens.solve(parameters=np.array([2., 1.]), tau=1.)(1.)\n",
    "\n",
    "rsol = refsol(2., 0., 2., 1., 2.)\n",
    "ref = np.block([[rsol[0]], [0], [rsol[1]], [0], [-rsol[0]]])\n",
    "ref = np.block([[ref, np.zeros((5, 1))]])\n",
    "\n",
    "print(\"Absolute error: \", np.linalg.norm(ref - sol))\n",
    "np.allclose(ref, sol, rtol=1e-9, atol=1e-2)"
   ]
  }
 ],
 "metadata": {
  "celltoolbar": "Raw Cell Format",
  "kernelspec": {
   "display_name": "Python [conda env:.conda-multilevel] *",
   "language": "python",
   "name": "conda-env-.conda-multilevel-py"
  },
  "language_info": {
   "codemirror_mode": {
    "name": "ipython",
    "version": 3
   },
   "file_extension": ".py",
   "mimetype": "text/x-python",
   "name": "python",
   "nbconvert_exporter": "python",
   "pygments_lexer": "ipython3",
   "version": "3.7.6"
  }
 },
 "nbformat": 4,
 "nbformat_minor": 4
}
